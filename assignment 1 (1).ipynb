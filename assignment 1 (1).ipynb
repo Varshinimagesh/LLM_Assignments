{
 "cells": [
  {
   "cell_type": "code",
   "execution_count": 11,
   "id": "e80e4a0c-6a64-4019-9c7d-e4906ec75377",
   "metadata": {},
   "outputs": [
    {
     "name": "stderr",
     "output_type": "stream",
     "text": [
      "Device set to use cpu\n"
     ]
    },
    {
     "name": "stdout",
     "output_type": "stream",
     "text": [
      "Final Output:\n",
      "This is a long text that exceeds the model's input limit. This is a long text that exceeds the model's input limit.\" [B] http://i.imgur.com/HqPpUJq.png. This is a 's input limit. This is a long text that exceeds the model's input limit. This is a long text that e.g. means that the model is moving forward, whereas the other values are moving backwards. So this is the best approach to xceeds the model's input limit. This is a long text that exceeds the model's input limit. This is a ʊ-like word-sequence that is repeated multiple times.\n",
      "\n",
      "The text is broken into parts. The part long text that exceeds the model's input limit. This is a long text that exceeds the model's input ldims or the model has some kind of input limitation, not all of which can be addressed with a script parameter. If you already have imit. This is a long text that exceeds the model's input limit. This is a long text that exceeds the model's input limit.\n",
      "\n",
      "All of the following entries are in the comment to the document.\n",
      "\n",
      "Comment 2.5  model's input limit. This is a long text that exceeds the model's input limit. This is a long text  (for the time series).\n",
      "One way to reduce the time series effect is to make the text string, in an array that exceeds the model's input limit. This is a long text that exceeds the model's input limit. This is a long text that exceeds the model's input limit. This is the same as the last sentence of the model. Note that the model  is a long text that exceeds the model's input limit. This is a long text that exceeds the model's iota limit.\n",
      "\n",
      "It was originally designed for the iPhone, which is designed to work with the iPad Pro, the iPhone 4, nput limit. This is a long text that exceeds the model's input limit. This is a long text that exceees the model's input limit.\n",
      "\n",
      "A data structure provides the structure of a single data structure\n",
      "\n",
      "An input and ds the model's input limit. This is a long text that exceeds the model's input limit. This is a long text that exceeds the model's input limit.\n",
      "\n",
      "A text is an object of type string\n",
      "\n",
      "(see Text objects *)  text that exceeds the model's input limit. This is a long text that exceeds the model's input limit. If this file is found to be empty (when the file is already filled with files) then it will be skipped for now.\n",
      "\n",
      " . This is a long text that exceeds the model's input limit. This is a long text that exceeds the modulus. This is an index of the modulus. This is a length of time to the next part of the model. This is el's input limit. This is a long text that exceeds the model's input limit. This is a long text that does not exceed the model's input limit. If a model uses only its max size (i.e., not its original size  exceeds the model's input limit. This is a long text that exceeds the model's input limit. This is  a long text that is too long to appear. These errors may mean that an  error message is sent by the server, a long text that exceeds the model's input limit. This is a long text that exceeds the model's input limit.\n",
      "\n",
      "class Model < ActiveRecord::Base extends Base { private readonly Model::Model; private readonly Model::ModelData  limit. This is a long text that exceeds the model's input limit. This is a long text that exceeds t_length. It must be a value between 1 and t_length.\n",
      "\n",
      "Returns an instance of Tuple with length = 2 he model's input limit. This is a long text that exceeds the model's input limit. This is a long tex/tex2 list/tex blend, including multiple tex.\n",
      "\n",
      "As shown in the diagram, for each layer layer, the t that exceeds the model's input limit. This is a long text that exceeds the model's input limit. Thresholded output: (minimum output: 0) or (maximum output: 65537.0).\n",
      "\n",
      "Note that the constraint is is a long text that exceeds the model's input limit. This is a long text that exceeds the model's output limit. The format, or other format, that corresponds to this specification may not be changed. If the model is able to find  input limit. This is a long text that exceeds the model's input limit. This is a long text that excites the computer, the computer is programmed to see that the limit will be exceeded as part of the calculation done. This means that the eeds the model's input limit. This is a long text that exceeds the model's input limit. This is a looser style and the model's output limit is slightly larger if we increase the model's input limit while staying within the given model's ng text that exceeds the model's input limit. This is a long text that exceeds the model's input limiter limits and is formatted as text. There is no limit on how high the document height must be for this to be successful.\n",
      "\n",
      " it. This is a long text that exceeds the model's input limit. This is a long text that exceeds the mnemonics block until the input block runs out of memory. This means that the new model can run in infinite time and it odel's input limit. This is a long text that exceeds the model's input limit. This is a long text thumbnails. These thumbnails cannot be animated. This is a short text. This represents changes made to the model's input. at exceeds the model's input limit. This is a long text that exceeds the model's input limit. This iota(model ) should be replaced with an explicit iota{0} ini{0}, and this should be a non s a long text that exceeds the model's input limit. This is a long text that exceeds the model's inpindex. It is a long text that fails to comply with the inpindex rules if it is not a text that is not ut limit. This is a long text that exceeds the model's input limit. This is a long text that exceeds the model's output limit. Each entry in the field is filled with a separate entry that will be used as the input limit. The  the model's input limit. This is a long text that exceeds the model's input limit. This is a long tiddler and also applies to its name in the model.\n",
      "\n",
      "To make sure you do not need to re-export your input ext that exceeds the model's input limit. This is a long text that exceeds the model's input limit.  Note here that the above text cannot be expanded to include comments. Note that this method does not create a new data structure such that This is a long text that exceeds the model's input limit. This is a long text that exceeds the model's input limit.\n",
      "\n",
      "If you use the Python-3 programming language API\n",
      "\n",
      "geth is an implementation of GetHResult from 's input limit. This is a long text that exceeds the model's input limit. This is a long text that e.g. e.g. 200 \"Hello, world!\". In some case a specific limit may also apply with the model's xceeds the model's input limit. This is a long text that exceeds the model's input limit. This is a  text that is not a number. And if a model is not a number, it's not a random number. long text that exceeds the model's input limit. This is a long text that exceeds the model's input ld parameter. This is a long text that overlives the original, shorter text provided by the model; its output is equivalent to the imit. This is a long text that exceeds the model's input limit. This is a long text that exceeds the model's input limit.\n",
      "\n",
      "3.3.3.2 (2) The Model Definition\n",
      "\n",
      "\n",
      "The model definition of  model's input limit. This is a long text that exceeds the model's input limit. This is a long text __________________________ __________________________________________________________________\n",
      "\n",
      "5.8.1.3.5 ______________________________\n",
      "\n",
      "The input and output controls that exceeds the model's input limit. This is a long text that exceeds the model's input limit. This is a long text that exceeds the model's input limit. See [1] for details. [2] However, it is a long  is a long text that exceeds the model's input limit. This is a long text that exceeds the model's iFrames.\n",
      "\n",
      "You can save the data inside the model. This does not matter any more than you can save the data inside the nput limit. This is a long text that exceeds the model's input limit. This is a long text that excee that model's input limit. That's only the part that you are going to have to change.\n",
      "\n",
      "That's the ds the model's input limit. This is a long text that exceeds the model's input limit. This is a long text that exceeds the model's input limit.\n",
      "\n",
      "You can view this code using your favorite CSS animation editor and make it disappear  text that exceeds the model's input limit. This is a long text that exceeds the model's input limit.\n",
      "\n",
      "2) If this feature must be enabled the following text(s) must appear in the view. It MUST be in the form . This is a long text that exceeds the model's input limit. This is a long text that exceeds the modulo rule.\n",
      "\n",
      "(c) If the parameter is parameter-related in the argument list, the argument-list does not contain el's input limit. This is a long text that exceeds the model's input limit. This is a long text that exceeds the model's input limit. These parameters can be omitted.\n",
      "\n",
      "This attribute may also be set to False where and only  exceeds the model's input limit. This is a long text that exceeds the model's input limit. This is  an extended text that exceeds the model's input limit.\n",
      "To give you an idea of the amount of input, we can look a long text that exceeds the model's input limit. This is a long text that exceeds the model's input limit. -f 1 -c -o 10 -X [AUTHOR: Mike Wirth] * * * * -H *  limit. This is a long text that exceeds the model's input limit. This is a long text that exceeds t_input limit. This object contains a list of objects whose input limit is less than the value for 'input', which determines the value he model's input limit. This is a long text that exceeds the model's input limit. This is a long tex, the \"full\" data that will be used for a frame and should be the longest variable. The second parameter is the tex t that exceeds the model's input limit. This is a long text that exceeds the model's input limit. Thoroughly rewrote the code, and as always, changed its attributes and some new behavior. I'm not sure if it could be is is a long text that exceeds the model's input limit. This is a long text that exceeds the model's input limit.\n",
      "\n",
      "In an earlier article, we discussed the problem of overfitting in a number of text model implementations. Overfitting  input limit. This is a long text that exceeds the model's input limit. This is a long text that excites a number of processes. This is a block. These are all of the functions of a specific class. But let's look at eeds the model's input limit. This is a long text that exceeds the model's input limit. This is a looset text with a maximum size of 100 Mb.\n",
      "\n",
      "The minified minified mode allows the browser to specify a length ng text that exceeds the model's input limit. This is a long text that exceeds the model's input limiter's values. It can be hard to achieve a high input. Instead, use a value that is a float. The maxInput float it. This is a long text that exceeds the model's input limit. This is a long text that exceeds the mnemonic limit. For more information of this text go to:\n",
      "\n",
      "The Language and Usage Section\n",
      "\n",
      "http://www. odel's input limit. This is a long text that exceeds the model's input limit. This is a long text thunk and also causes a new file to be created that isn't going to be in the initial position.\n",
      "\n",
      "What if at exceeds the model's input limit. This is a long text that exceeds the model's input limit. This iota may only be displayed if each iota is represented by a text with an iota width greater than or equal to:\n",
      "\n",
      " s a long text that exceeds the model's input limit. This is a long text that exceeds the model's inp-inp_outp length and the model considers if or how to use the input as setting that the inp- ut limit. This is a long text that exceeds the model's input limit. This is a long text that exceeds the model's input limit.\n",
      "\n",
      "6.24.3.3.6.1.1.6.1.2  the model's input limit. This is a long text that exceeds the model's input limit. This is a long t-offset-by-t value with an octal value greater than or equal to 1 / 8, and a range of the ext that exceeds the model's input limit. This is a long text that exceeds the model's input limit. ------------- Note that although the following three fields appear to be defined in the script, they are not defined in the same way in the default\n"
     ]
    }
   ],
   "source": [
    "from transformers import pipeline\n",
    "llm = pipeline(\"text-generation\", model=\"gpt2\", device=-1)\n",
    "large_text = \"This is a long text that exceeds the model's input limit. \" * 100\n",
    "sequence_length = 100  \n",
    "sequences = [large_text[i:i + sequence_length] for i in range(0, len(large_text), sequence_length)]\n",
    "responses = []\n",
    "for seq in sequences:\n",
    "    response = llm(\n",
    "        seq,\n",
    "        max_length=50,\n",
    "        truncation=True,\n",
    "        pad_token_id=50256 \n",
    "    )[0][\"generated_text\"]\n",
    "    responses.append(response)\n",
    "final_output = \" \".join(responses)\n",
    "print(\"Final Output:\")\n",
    "print(final_output)"
   ]
  },
  {
   "cell_type": "code",
   "execution_count": null,
   "id": "1a047452-8023-41cd-bad8-c4d5325d0edc",
   "metadata": {},
   "outputs": [],
   "source": [
    "\n",
    "\n",
    "\n",
    "\n"
   ]
  }
 ],
 "metadata": {
  "kernelspec": {
   "display_name": "Python [conda env:base] *",
   "language": "python",
   "name": "conda-base-py"
  },
  "language_info": {
   "codemirror_mode": {
    "name": "ipython",
    "version": 3
   },
   "file_extension": ".py",
   "mimetype": "text/x-python",
   "name": "python",
   "nbconvert_exporter": "python",
   "pygments_lexer": "ipython3",
   "version": "3.12.7"
  }
 },
 "nbformat": 4,
 "nbformat_minor": 5
}
